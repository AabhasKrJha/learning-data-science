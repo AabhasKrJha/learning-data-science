{
 "cells": [
  {
   "cell_type": "code",
   "execution_count": 30,
   "id": "a4f0308b",
   "metadata": {},
   "outputs": [],
   "source": [
    "import numpy as np\n",
    "import matplotlib.pyplot as plt\n",
    "import scipy"
   ]
  },
  {
   "cell_type": "markdown",
   "id": "58671da3",
   "metadata": {},
   "source": [
    "# Basic"
   ]
  },
  {
   "cell_type": "markdown",
   "id": "1621094e",
   "metadata": {},
   "source": [
    "## Optimization"
   ]
  },
  {
   "cell_type": "code",
   "execution_count": 2,
   "id": "ed3c9ae8",
   "metadata": {},
   "outputs": [],
   "source": [
    "from scipy.optimize import minimize # function to minimize f(x)"
   ]
  },
  {
   "cell_type": "markdown",
   "id": "e1fe3978",
   "metadata": {},
   "source": [
    "Minimize $f(x) = (x-3)^2$"
   ]
  },
  {
   "cell_type": "code",
   "execution_count": 3,
   "id": "2c37ca2c",
   "metadata": {},
   "outputs": [],
   "source": [
    "# to minimize a function, first one has to create a function\n",
    "def f(x):\n",
    "    return ((x -3) ** 2)\n",
    "result = minimize(f, 2)"
   ]
  },
  {
   "cell_type": "code",
   "execution_count": 4,
   "id": "f3240ef8",
   "metadata": {},
   "outputs": [
    {
     "data": {
      "text/plain": [
       "      fun: 5.551437397369767e-17\n",
       " hess_inv: array([[0.5]])\n",
       "      jac: array([-4.3254289e-13])\n",
       "  message: 'Optimization terminated successfully.'\n",
       "     nfev: 6\n",
       "      nit: 2\n",
       "     njev: 3\n",
       "   status: 0\n",
       "  success: True\n",
       "        x: array([2.99999999])"
      ]
     },
     "execution_count": 4,
     "metadata": {},
     "output_type": "execute_result"
    }
   ],
   "source": [
    "# the result shows stats about the optimization process\n",
    "# it tells the minimum value and the value of variabes at which function gives minimum value\n",
    "result\n",
    "# x = array containg value of x at with function has min value\n",
    "# fun = min value of the function"
   ]
  },
  {
   "cell_type": "markdown",
   "id": "a5f12b96",
   "metadata": {},
   "source": [
    "Minimize $f(x, y) = (x-1)^2 + (y-2.5)^2$ subject to\n",
    "\n",
    "$$x-2y+2 \\geq 0 $$\n",
    "$$-x-2y+6 \\geq 0$$\n",
    "$$-x + 2y + 2 \\geq 0$$\n",
    "$$x \\geq 0 $$\n",
    "$$y \\geq 0 $$\n",
    "\n",
    "<p align=\"center\">\n",
    "  <img src=\"opt_reg.PNG\" alt=\"drawing\" width=\"300\"/>\n",
    "</p>\n",
    "\n",
    "* 2D function takes in vector $x$\n",
    "* Constraints must be specified as $g_i(x) \\geq 0$\n",
    "* Bounds specified as rectangular "
   ]
  },
  {
   "cell_type": "code",
   "execution_count": 5,
   "id": "a317de59",
   "metadata": {},
   "outputs": [],
   "source": [
    "# the above 5 inequalities tell that the region that has to be containg the fxn is inside the red pentagon\n",
    "# the last ones are bounds : x > 0 and "
   ]
  },
  {
   "cell_type": "code",
   "execution_count": 6,
   "id": "19ec4df7",
   "metadata": {},
   "outputs": [],
   "source": [
    "# here x is a vector that contains both the x and y values as given the the function and the constraint\n",
    "f = lambda x : (x[0] - 1)**2 + (x[1] - 2.5)**2\n",
    "\n",
    "# now we have to define constraints, a tuple of dictionaries\n",
    "cons = (\n",
    "    {'type' : 'ineq', 'fun' : lambda x : x[0] - 2*x[1] + 2},\n",
    "    {'type' : 'ineq', 'fun' : lambda x : -x[0] - 2*x[1] + 6},\n",
    "    {'type' : 'ineq', 'fun' : lambda x : -x[0] + 2*x[1] + 2}\n",
    ")\n",
    "\n",
    "# bounds\n",
    "bnds = ((0, None), (0, None))\n",
    "# (0, None) means from 0 to infinty, that means it is unbounded\n",
    "# the first and the second represents by x and y axis bounds respectively"
   ]
  },
  {
   "cell_type": "code",
   "execution_count": 7,
   "id": "f11ff97e",
   "metadata": {},
   "outputs": [],
   "source": [
    "result = minimize(f, (2,0), bounds=bnds, constraints=cons)"
   ]
  },
  {
   "cell_type": "code",
   "execution_count": 8,
   "id": "5a5f793c",
   "metadata": {},
   "outputs": [
    {
     "data": {
      "text/plain": [
       "     fun: 0.8000000011920985\n",
       "     jac: array([ 0.80000002, -1.59999999])\n",
       " message: 'Optimization terminated successfully'\n",
       "    nfev: 10\n",
       "     nit: 3\n",
       "    njev: 3\n",
       "  status: 0\n",
       " success: True\n",
       "       x: array([1.4, 1.7])"
      ]
     },
     "execution_count": 8,
     "metadata": {},
     "output_type": "execute_result"
    }
   ],
   "source": [
    "result"
   ]
  },
  {
   "cell_type": "markdown",
   "id": "dda828d6",
   "metadata": {},
   "source": [
    "## Interpolation"
   ]
  },
  {
   "cell_type": "code",
   "execution_count": 9,
   "id": "a9ae6bc8",
   "metadata": {},
   "outputs": [
    {
     "data": {
      "text/plain": [
       "<matplotlib.collections.PathCollection at 0x10fc11cc0>"
      ]
     },
     "execution_count": 9,
     "metadata": {},
     "output_type": "execute_result"
    },
    {
     "data": {
      "image/png": "[encoded data removed]",
      "text/plain": [
       "<Figure size 432x288 with 1 Axes>"
      ]
     },
     "metadata": {
      "needs_background": "light"
     },
     "output_type": "display_data"
    }
   ],
   "source": [
    "# fabricating data points for interpolation \n",
    "x = np.linspace(0, 10, 10)\n",
    "y = x**2 * np.sin(x)\n",
    "\n",
    "# creating a scatter plot (plotting the data point in coordinate form (x,y))\n",
    "plt.scatter(x,y)"
   ]
  },
  {
   "cell_type": "markdown",
   "id": "9a66d612",
   "metadata": {},
   "source": [
    "### Linear interpolation"
   ]
  },
  {
   "cell_type": "code",
   "execution_count": 10,
   "id": "433bfdde",
   "metadata": {},
   "outputs": [
    {
     "data": {
      "text/plain": [
       "[<matplotlib.lines.Line2D at 0x10fd13a00>]"
      ]
     },
     "execution_count": 10,
     "metadata": {},
     "output_type": "execute_result"
    },
    {
     "data": {
      "image/png": "[encoded data removed]",
      "text/plain": [
       "<Figure size 432x288 with 1 Axes>"
      ]
     },
     "metadata": {
      "needs_background": "light"
     },
     "output_type": "display_data"
    }
   ],
   "source": [
    "# now if one wishes to join the data points one will get a curve such that it represents a function\n",
    "# if joined the points using straight lines, that will be called linear interpolation \n",
    "# but that is not what the function's graph will look like\n",
    "\n",
    "plt.scatter(x, y)\n",
    "plt.plot(x, y)"
   ]
  },
  {
   "cell_type": "code",
   "execution_count": 11,
   "id": "e338d9fe",
   "metadata": {},
   "outputs": [],
   "source": [
    "# hence to form a continuous curve to find out about what is going on in the middle of these data points\n",
    "\n",
    "from scipy.interpolate import interp1d"
   ]
  },
  {
   "cell_type": "code",
   "execution_count": 12,
   "id": "8cb89222",
   "metadata": {},
   "outputs": [],
   "source": [
    "# interplotion using scipy\n",
    "\n",
    "def plot_interpolated_curve(curve_kind):\n",
    "    f = interp1d(x, y, kind=curve_kind)\n",
    "    x_dence = np.linspace(0, 10, 100)\n",
    "    y_dence = f(x_dence)\n",
    "    plt.plot(x_dence, y_dence)"
   ]
  },
  {
   "cell_type": "code",
   "execution_count": 13,
   "id": "e4317415",
   "metadata": {},
   "outputs": [
    {
     "data": {
      "image/png": "[encoded data removed]",
      "text/plain": [
       "<Figure size 432x288 with 1 Axes>"
      ]
     },
     "metadata": {
      "needs_background": "light"
     },
     "output_type": "display_data"
    }
   ],
   "source": [
    "# linear interploation using scipy\n",
    "# similar shape as perviously interpolated graph using only matplotlib\n",
    "plot_interpolated_curve('linear')"
   ]
  },
  {
   "cell_type": "markdown",
   "id": "7e59ccff",
   "metadata": {},
   "source": [
    "### smooth interpolation"
   ]
  },
  {
   "cell_type": "code",
   "execution_count": 14,
   "id": "6f7bdf14",
   "metadata": {},
   "outputs": [
    {
     "data": {
      "image/png": "[encoded data removed]",
      "text/plain": [
       "<Figure size 432x288 with 1 Axes>"
      ]
     },
     "metadata": {
      "needs_background": "light"
     },
     "output_type": "display_data"
    }
   ],
   "source": [
    "# obtaining smooth curve using scipy\n",
    "plot_interpolated_curve('cubic')"
   ]
  },
  {
   "cell_type": "code",
   "execution_count": 15,
   "id": "e7650879",
   "metadata": {},
   "outputs": [
    {
     "data": {
      "text/plain": [
       "[<matplotlib.lines.Line2D at 0x1180c97e0>]"
      ]
     },
     "execution_count": 15,
     "metadata": {},
     "output_type": "execute_result"
    },
    {
     "data": {
      "image/png": "[encoded data removed]",
      "text/plain": [
       "<Figure size 432x288 with 1 Axes>"
      ]
     },
     "metadata": {
      "needs_background": "light"
     },
     "output_type": "display_data"
    }
   ],
   "source": [
    "# a smooth curve can also be obtained using just matplotlib by just increasing the number of data points\n",
    "x = np.linspace(0, 10, 10000)\n",
    "y = x**2 * np.sin(x)\n",
    "plt.plot(x, y)"
   ]
  },
  {
   "cell_type": "markdown",
   "id": "1baa9f63",
   "metadata": {},
   "source": [
    "## Curve fitting"
   ]
  },
  {
   "cell_type": "markdown",
   "id": "f27b5d90",
   "metadata": {},
   "source": [
    "The equation for spring motion is $y(t) = A\\cos(\\omega t+\\phi)$. Want to find the natural frequency of oscillation $\\omega$ for the spring. You collect the data"
   ]
  },
  {
   "cell_type": "code",
   "execution_count": 16,
   "id": "11060874",
   "metadata": {},
   "outputs": [],
   "source": [
    "# data related to time taken for displacement from mean position in subsequent back and forth motion\n",
    "t_data = np.array([ 0.   ,  0.34482759,  0.68965517,  1.03448276,  1.37931034,\n",
    "        1.72413793,  2.06896552,  2.4137931 ,  2.75862069,  3.10344828,\n",
    "        3.44827586,  3.79310345,  4.13793103,  4.48275862,  4.82758621,\n",
    "        5.17241379,  5.51724138,  5.86206897,  6.20689655,  6.55172414,\n",
    "        6.89655172,  7.24137931,  7.5862069 ,  7.93103448,  8.27586207,\n",
    "        8.62068966,  8.96551724,  9.31034483,  9.65517241, 10.        ])\n",
    "\n",
    "# data related to displacement recorded from mean position in back and forth motion\n",
    "y_data = np.array([ 4.3303953 ,  1.61137995, -2.15418696, -3.90137249, -1.67259042,\n",
    "        2.16884383,  3.86635998,  1.85194506, -1.8489224 , -3.96560495,\n",
    "       -2.13385255,  1.59425817,  4.06145238,  1.89300594, -1.76870297,\n",
    "       -4.26791226, -2.46874133,  1.37019912,  4.24945607,  2.27038039,\n",
    "       -1.50299303, -3.46774049, -2.50845488,  1.20022052,  3.81633703,\n",
    "        2.91511556, -1.24569189, -3.72716214, -2.54549857,  0.87262548])"
   ]
  },
  {
   "cell_type": "code",
   "execution_count": 17,
   "id": "7019978e",
   "metadata": {},
   "outputs": [
    {
     "data": {
      "text/plain": [
       "[<matplotlib.lines.Line2D at 0x118138d00>]"
      ]
     },
     "execution_count": 17,
     "metadata": {},
     "output_type": "execute_result"
    },
    {
     "data": {
      "image/png": "[encoded data removed]",
      "text/plain": [
       "<Figure size 432x288 with 1 Axes>"
      ]
     },
     "metadata": {
      "needs_background": "light"
     },
     "output_type": "display_data"
    }
   ],
   "source": [
    "plt.plot(t_data,y_data,'o--') # the plot shows linear interpolation"
   ]
  },
  {
   "cell_type": "markdown",
   "id": "f8b313dd",
   "metadata": {},
   "source": [
    "$\\omega = 2 \\pi f$, $f=1/T$, and $T \\approx 2$ seconds (judging from the plot). Thus good initial guess is\n",
    "\n",
    "* $ Frequency, \\omega = 2 \\pi (1/2) = \\pi$\n",
    "* $ Amplitide, A=4$\n",
    "* $ Initial Phase, \\phi = 0$"
   ]
  },
  {
   "cell_type": "code",
   "execution_count": 18,
   "id": "65ff5003",
   "metadata": {},
   "outputs": [],
   "source": [
    "# imports for getting optimal accurate values\n",
    "from scipy.optimize import curve_fit\n",
    "\n",
    "# constructing the simple harmonic function\n",
    "# f is a fxn of t, i.e., f(t), with additional parameters - A, w, phi\n",
    "def f(t, A, w, phi):\n",
    "    return A * np.cos(w * t + phi)\n",
    "\n",
    "# finding optimal parameters for A, omega, phi\n",
    "popt, pcov = curve_fit(f, t_data, y_data, p0=(4, np.pi, 0))"
   ]
  },
  {
   "cell_type": "code",
   "execution_count": 19,
   "id": "ad803437",
   "metadata": {},
   "outputs": [
    {
     "data": {
      "text/plain": [
       "array([3.94836219, 2.99899521, 0.1041135 ])"
      ]
     },
     "execution_count": 19,
     "metadata": {},
     "output_type": "execute_result"
    }
   ],
   "source": [
    "popt # optimal values for parameters - A, w, phi in series"
   ]
  },
  {
   "cell_type": "code",
   "execution_count": 20,
   "id": "84009f73",
   "metadata": {},
   "outputs": [],
   "source": [
    "A, w, phi = popt\n",
    "t = np.linspace(0, 10, 100)\n",
    "y = f(t, A, w, phi)"
   ]
  },
  {
   "cell_type": "code",
   "execution_count": 21,
   "id": "23792df9",
   "metadata": {},
   "outputs": [
    {
     "data": {
      "text/plain": [
       "[<matplotlib.lines.Line2D at 0x118187f10>]"
      ]
     },
     "execution_count": 21,
     "metadata": {},
     "output_type": "execute_result"
    },
    {
     "data": {
      "image/png": "[encoded data removed]",
      "text/plain": [
       "<Figure size 432x288 with 1 Axes>"
      ]
     },
     "metadata": {
      "needs_background": "light"
     },
     "output_type": "display_data"
    }
   ],
   "source": [
    "plt.scatter(t_data, y_data) # to plot the datapoints\n",
    "plt.plot(t, y) # this is the best "
   ]
  },
  {
   "cell_type": "code",
   "execution_count": 22,
   "id": "b102be9d",
   "metadata": {},
   "outputs": [
    {
     "data": {
      "text/plain": [
       "array([[ 2.61882716e-03, -4.94133398e-06,  3.47405204e-05],\n",
       "       [-4.94133398e-06,  1.85637994e-05, -9.60757777e-05],\n",
       "       [ 3.47405204e-05, -9.60757777e-05,  6.63424432e-04]])"
      ]
     },
     "execution_count": 22,
     "metadata": {},
     "output_type": "execute_result"
    }
   ],
   "source": [
    "# using scipy one approximate the values of the parameters with accuracy and get a nicely fitted curve\n",
    "# But there are errors too in these approximations that can be calculates using scipy as well\n",
    "pcov # this is a covariance matrix whose daigonal elemets hint to the errors in approximations "
   ]
  },
  {
   "cell_type": "code",
   "execution_count": 23,
   "id": "baa02e63",
   "metadata": {},
   "outputs": [],
   "source": [
    "varience = np.diag(pcov)# to get te daiginal elements (varience in values of A, w, phi in order)"
   ]
  },
  {
   "cell_type": "code",
   "execution_count": 24,
   "id": "60d8d72b",
   "metadata": {},
   "outputs": [
    {
     "data": {
      "text/plain": [
       "array([0.05117448, 0.00430857, 0.02575703])"
      ]
     },
     "execution_count": 24,
     "metadata": {},
     "output_type": "execute_result"
    }
   ],
   "source": [
    "# error is the same as standard deviation\n",
    "np.sqrt(varience) # gives an array for errors of A, w, phi in order"
   ]
  },
  {
   "cell_type": "markdown",
   "id": "2ff8a2a0",
   "metadata": {},
   "source": [
    "# Calculus"
   ]
  },
  {
   "cell_type": "markdown",
   "id": "f0a823a9",
   "metadata": {},
   "source": [
    "## Diffrentiation"
   ]
  },
  {
   "cell_type": "code",
   "execution_count": 25,
   "id": "bdbc0011",
   "metadata": {},
   "outputs": [],
   "source": [
    "from scipy.misc import derivative\n",
    "\n",
    "def f(x):\n",
    "    return x**2 * np.sin(2*x) * np.exp(-x)\n",
    "\n",
    "x = np.linspace(0, 1, 100)"
   ]
  },
  {
   "cell_type": "code",
   "execution_count": 26,
   "id": "e6d97e85",
   "metadata": {},
   "outputs": [],
   "source": [
    "# calculative derivatives\n",
    "d1 = derivative(f, x, dx = 1e-6) # first derivative\n",
    "d2 = derivative(f, x, dx = 1e-6, n = 2) # second derivative"
   ]
  },
  {
   "cell_type": "code",
   "execution_count": 27,
   "id": "656f7aaa",
   "metadata": {},
   "outputs": [
    {
     "data": {
      "text/plain": [
       "<matplotlib.legend.Legend at 0x118228100>"
      ]
     },
     "execution_count": 27,
     "metadata": {},
     "output_type": "execute_result"
    },
    {
     "data": {
      "image/png": "[encoded data removed]",
      "text/plain": [
       "<Figure size 432x288 with 1 Axes>"
      ]
     },
     "metadata": {
      "needs_background": "light"
     },
     "output_type": "display_data"
    }
   ],
   "source": [
    "plt.plot(x, f(x), label = 'function')\n",
    "plt.plot(x, d1, label = '1st derivative')\n",
    "plt.plot(x, d2, label = '2nd derivative')\n",
    "plt.legend()"
   ]
  },
  {
   "cell_type": "code",
   "execution_count": 29,
   "id": "ff740e1f",
   "metadata": {},
   "outputs": [
    {
     "data": {
      "text/plain": [
       "array([-4.00000000e-12,  1.18756831e-01,  2.32579313e-01,  3.41437226e-01,\n",
       "        4.45307555e-01,  5.44174189e-01,  6.38027988e-01,  7.26866158e-01,\n",
       "        8.10692876e-01,  8.89518060e-01,  9.63357432e-01,  1.03223376e+00,\n",
       "        1.09617350e+00,  1.15521221e+00,  1.20938676e+00,  1.25874224e+00,\n",
       "        1.30332637e+00,  1.34319292e+00,  1.37840607e+00,  1.40901527e+00,\n",
       "        1.43509510e+00,  1.45671496e+00,  1.47396331e+00,  1.48690088e+00,\n",
       "        1.49560572e+00,  1.50018539e+00,  1.50071275e+00,  1.49727453e+00,\n",
       "        1.48997481e+00,  1.47891421e+00,  1.46418294e+00,  1.44591977e+00,\n",
       "        1.42415940e+00,  1.39904754e+00,  1.37069522e+00,  1.33922734e+00,\n",
       "        1.30468553e+00,  1.26727795e+00,  1.22701849e+00,  1.18410837e+00,\n",
       "        1.13857535e+00,  1.09064147e+00,  1.04029285e+00,  9.87807058e-01,\n",
       "        9.33170208e-01,  8.76590467e-01,  8.18081713e-01,  7.57852114e-01,\n",
       "        6.95943303e-01,  6.32632835e-01,  5.67768055e-01,  5.01737540e-01,\n",
       "        4.34374758e-01,  3.66179309e-01,  2.96790370e-01,  2.26763053e-01,\n",
       "        1.55847557e-01,  8.44602166e-02,  1.25455202e-02, -5.99242878e-02,\n",
       "       -1.32394096e-01, -2.05224726e-01, -2.78166379e-01, -3.51135787e-01,\n",
       "       -4.23772128e-01, -4.96408470e-01, -5.68628478e-01, -6.40459907e-01,\n",
       "       -7.11791737e-01, -7.82568454e-01, -8.52623527e-01, -9.21818177e-01,\n",
       "       -9.90374449e-01, -1.05804254e+00, -1.12454490e+00, -1.19004806e+00,\n",
       "       -1.25432997e+00, -1.31750166e+00, -1.37934109e+00, -1.43973722e+00,\n",
       "       -1.49885659e+00, -1.55631064e+00, -1.61237690e+00, -1.66688885e+00,\n",
       "       -1.71956893e+00, -1.77069470e+00, -1.82021065e+00, -1.86750615e+00,\n",
       "       -1.91319183e+00, -1.95721217e+00, -1.99901207e+00, -2.03892458e+00,\n",
       "       -2.07711626e+00, -2.11286544e+00, -2.14683826e+00, -2.17870166e+00,\n",
       "       -2.20851115e+00, -2.23615571e+00, -2.26152430e+00, -2.28489450e+00])"
      ]
     },
     "execution_count": 29,
     "metadata": {},
     "output_type": "execute_result"
    }
   ],
   "source": [
    "d2\n"
   ]
  },
  {
   "cell_type": "markdown",
   "id": "62555e33",
   "metadata": {},
   "source": [
    "## Integration"
   ]
  },
  {
   "cell_type": "markdown",
   "id": "e29e451d",
   "metadata": {},
   "source": [
    "$$ \\int_0^{1} x^2 \\sin(2x) e^{-x} dx $$"
   ]
  },
  {
   "cell_type": "code",
   "execution_count": 32,
   "id": "1e1cac96",
   "metadata": {},
   "outputs": [],
   "source": [
    "from scipy.integrate import quad\n",
    "\n",
    "# integrand is rhe function to be integrated\n",
    "integrand = lambda x: x**2 * np.sin(x) * np.exp(-x)\n",
    "\n",
    "# 0 and 1 are the lower and upper limits respectively\n",
    "integral, integral_error = quad(integrand, 0, 1)"
   ]
  },
  {
   "cell_type": "code",
   "execution_count": 33,
   "id": "4e60021e",
   "metadata": {},
   "outputs": [
    {
     "data": {
      "text/plain": [
       "0.10246777930717413"
      ]
     },
     "execution_count": 33,
     "metadata": {},
     "output_type": "execute_result"
    }
   ],
   "source": [
    "integral"
   ]
  },
  {
   "cell_type": "markdown",
   "id": "b7204266",
   "metadata": {},
   "source": [
    "$$ \\int_{0}^{1} \\int_{-x}^{x^2} \\sin(x+y^2) dy dx $$"
   ]
  },
  {
   "cell_type": "code",
   "execution_count": 36,
   "id": "51a1382c",
   "metadata": {},
   "outputs": [],
   "source": [
    "from scipy.integrate import dblquad # function for double integration\n",
    "\n",
    "integrand = lambda x, y: np.sin(x + y**2)\n",
    "\n",
    "# lower and upper bounds on y\n",
    "lwr_y = lambda x: -x\n",
    "upr_y = lambda x: x**2\n",
    "\n",
    "integral, integral_error = dblquad(integrand, 0, 1, lwr_y, upr_y)"
   ]
  },
  {
   "cell_type": "code",
   "execution_count": 37,
   "id": "9d23e668",
   "metadata": {},
   "outputs": [
    {
     "data": {
      "text/plain": [
       "0.315802507240474"
      ]
     },
     "execution_count": 37,
     "metadata": {},
     "output_type": "execute_result"
    }
   ],
   "source": [
    "integral"
   ]
  }
 ],
 "metadata": {
  "kernelspec": {
   "display_name": "Python 3 (ipykernel)",
   "language": "python",
   "name": "python3"
  },
  "language_info": {
   "codemirror_mode": {
    "name": "ipython",
    "version": 3
   },
   "file_extension": ".py",
   "mimetype": "text/x-python",
   "name": "python",
   "nbconvert_exporter": "python",
   "pygments_lexer": "ipython3",
   "version": "3.10.0"
  }
 },
 "nbformat": 4,
 "nbformat_minor": 5
}
