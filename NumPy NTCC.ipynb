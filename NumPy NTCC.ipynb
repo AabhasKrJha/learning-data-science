{
 "cells": [
  {
   "cell_type": "markdown",
   "id": "6752eaae",
   "metadata": {},
   "source": [
    "# Imports for using the numpy lib\n",
    "\n",
    "\n"
   ]
  },
  {
   "cell_type": "code",
   "execution_count": 122,
   "id": "451d12db",
   "metadata": {},
   "outputs": [],
   "source": [
    "import numpy as np\n",
    "import matplotlib.pyplot as plt\n",
    "\n",
    "# the matplotlib library is used here just to show some basic graphs\n",
    "# the use of matplotlib is related to the numpy arrays while plotting graphs\n",
    "# hence to look at numpy and numpy arrays is better with some very basic graphs than to use matplotlib first"
   ]
  },
  {
   "cell_type": "markdown",
   "id": "f7a553a2",
   "metadata": {},
   "source": [
    "# Creating numpy arrays"
   ]
  },
  {
   "cell_type": "code",
   "execution_count": 123,
   "id": "34e5b002",
   "metadata": {},
   "outputs": [],
   "source": [
    "arr1 = np.array([1,2,3,4]) # a normal numpy array\n",
    "arr2 = np.zeros(10) # an array with 10 O(s)\n",
    "arr3 = np.ones(10) # an array with 10 1(s)"
   ]
  },
  {
   "cell_type": "code",
   "execution_count": 124,
   "id": "54893d2d",
   "metadata": {},
   "outputs": [
    {
     "data": {
      "text/plain": [
       "array([1, 2, 3, 4])"
      ]
     },
     "execution_count": 124,
     "metadata": {},
     "output_type": "execute_result"
    }
   ],
   "source": [
    "arr1"
   ]
  },
  {
   "cell_type": "code",
   "execution_count": 125,
   "id": "cb9e19c5",
   "metadata": {},
   "outputs": [
    {
     "data": {
      "text/plain": [
       "array([0., 0., 0., 0., 0., 0., 0., 0., 0., 0.])"
      ]
     },
     "execution_count": 125,
     "metadata": {},
     "output_type": "execute_result"
    }
   ],
   "source": [
    "arr2"
   ]
  },
  {
   "cell_type": "code",
   "execution_count": 126,
   "id": "56191517",
   "metadata": {},
   "outputs": [
    {
     "data": {
      "text/plain": [
       "array([1., 1., 1., 1., 1., 1., 1., 1., 1., 1.])"
      ]
     },
     "execution_count": 126,
     "metadata": {},
     "output_type": "execute_result"
    }
   ],
   "source": [
    "arr3"
   ]
  },
  {
   "cell_type": "code",
   "execution_count": 127,
   "id": "4ca59634",
   "metadata": {},
   "outputs": [],
   "source": [
    "# an array with 10 random numbers uniformly random between 0 and 1\n",
    "arr4 = np.random.random(10)\n",
    "\n",
    "# an array with 10 random gaussian numbers\n",
    "# here in randn, \"n\" means normal distribution \n",
    "# these 10 numbers are according to a gaussian distribution, with mean of 0 and standard deviation of 1\n",
    "# array with normal numbers\n",
    "arr5 = np.random.randn(10)"
   ]
  },
  {
   "cell_type": "code",
   "execution_count": 128,
   "id": "ae029240",
   "metadata": {},
   "outputs": [
    {
     "data": {
      "text/plain": [
       "array([0.37340752, 0.5185208 , 0.37880539, 0.05507575, 0.85444271,\n",
       "       0.67539683, 0.45507714, 0.01806704, 0.83796905, 0.77003639])"
      ]
     },
     "execution_count": 128,
     "metadata": {},
     "output_type": "execute_result"
    }
   ],
   "source": [
    "arr4"
   ]
  },
  {
   "cell_type": "code",
   "execution_count": 129,
   "id": "8f02ab76",
   "metadata": {},
   "outputs": [
    {
     "data": {
      "text/plain": [
       "array([ 0.24065783,  0.25624393,  0.09401955,  1.16239505,  0.3489855 ,\n",
       "       -0.01896814,  1.00097389,  0.36610302, -0.1073323 ,  1.22730969])"
      ]
     },
     "execution_count": 129,
     "metadata": {},
     "output_type": "execute_result"
    }
   ],
   "source": [
    "arr5"
   ]
  },
  {
   "cell_type": "code",
   "execution_count": 130,
   "id": "5defcf09",
   "metadata": {},
   "outputs": [],
   "source": [
    "# some important array numpy array creation methods\n",
    "\n",
    "# linspace method creates an array with equally spaced numbers between 2 numbers\n",
    "# here 10 equally spaced numbers between 0 and 10\n",
    "arr6 = np.linspace(0, 10, 10)\n",
    "\n",
    "# arange method is similar like the linspace method\n",
    "# arange creates an array with with equally spaced numbers between 2 numbers but the space is provided\n",
    "# here numbers spaced 0.05 from each other between 0 and 10\n",
    "arr7 = np.arange(0, 10, 0.5)"
   ]
  },
  {
   "cell_type": "code",
   "execution_count": 131,
   "id": "326ab4c0",
   "metadata": {
    "scrolled": true
   },
   "outputs": [
    {
     "data": {
      "text/plain": [
       "array([ 0.        ,  1.11111111,  2.22222222,  3.33333333,  4.44444444,\n",
       "        5.55555556,  6.66666667,  7.77777778,  8.88888889, 10.        ])"
      ]
     },
     "execution_count": 131,
     "metadata": {},
     "output_type": "execute_result"
    }
   ],
   "source": [
    "arr6"
   ]
  },
  {
   "cell_type": "code",
   "execution_count": 132,
   "id": "87c09f57",
   "metadata": {
    "scrolled": true
   },
   "outputs": [
    {
     "data": {
      "text/plain": [
       "array([0. , 0.5, 1. , 1.5, 2. , 2.5, 3. , 3.5, 4. , 4.5, 5. , 5.5, 6. ,\n",
       "       6.5, 7. , 7.5, 8. , 8.5, 9. , 9.5])"
      ]
     },
     "execution_count": 132,
     "metadata": {},
     "output_type": "execute_result"
    }
   ],
   "source": [
    "arr7"
   ]
  },
  {
   "cell_type": "markdown",
   "id": "e3c5365e",
   "metadata": {},
   "source": [
    "# Mathematical operations on array"
   ]
  },
  {
   "cell_type": "code",
   "execution_count": 133,
   "id": "9626aff5",
   "metadata": {},
   "outputs": [
    {
     "data": {
      "text/plain": [
       "array([2, 4, 6, 8])"
      ]
     },
     "execution_count": 133,
     "metadata": {},
     "output_type": "execute_result"
    }
   ],
   "source": [
    "# multiplying array with a scaler is equilvalent to an array with each element multiplied with the scalar\n",
    "arr1 * 2"
   ]
  },
  {
   "cell_type": "code",
   "execution_count": 134,
   "id": "bb200fdc",
   "metadata": {},
   "outputs": [
    {
     "data": {
      "text/plain": [
       "array([1.        , 0.5       , 0.33333333, 0.25      ])"
      ]
     },
     "execution_count": 134,
     "metadata": {},
     "output_type": "execute_result"
    }
   ],
   "source": [
    "# reciprocal of an array is equivalent to an array with reciprocal of each of its elements\n",
    "1/arr1"
   ]
  },
  {
   "cell_type": "code",
   "execution_count": 135,
   "id": "2b64b8c7",
   "metadata": {},
   "outputs": [
    {
     "data": {
      "text/plain": [
       "array([3, 4, 5, 6])"
      ]
     },
     "execution_count": 135,
     "metadata": {},
     "output_type": "execute_result"
    }
   ],
   "source": [
    "# adding a scalar to an array is equivalent to an array with the scalar added to each of its elements\n",
    "arr1 + 2"
   ]
  },
  {
   "cell_type": "code",
   "execution_count": 136,
   "id": "01c680a2",
   "metadata": {},
   "outputs": [
    {
     "data": {
      "text/plain": [
       "array([ 3,  6,  9, 12])"
      ]
     },
     "execution_count": 136,
     "metadata": {},
     "output_type": "execute_result"
    }
   ],
   "source": [
    "# adding 2 arrays is equivalent to an arrays with corresponding elements added\n",
    "arr1 + 2*arr1"
   ]
  },
  {
   "cell_type": "code",
   "execution_count": 137,
   "id": "54f596cd",
   "metadata": {},
   "outputs": [
    {
     "data": {
      "text/plain": [
       "array([False, False, False, False])"
      ]
     },
     "execution_count": 137,
     "metadata": {},
     "output_type": "execute_result"
    }
   ],
   "source": [
    "# using relational mathematical operators on array\n",
    "arr1 > 9"
   ]
  },
  {
   "cell_type": "markdown",
   "id": "33f7c57d",
   "metadata": {},
   "source": [
    "### Plotting using numpy and matplotlib"
   ]
  },
  {
   "cell_type": "code",
   "execution_count": 138,
   "id": "b24f788f",
   "metadata": {},
   "outputs": [
    {
     "data": {
      "text/plain": [
       "[<matplotlib.lines.Line2D at 0x12545f0d0>]"
      ]
     },
     "execution_count": 138,
     "metadata": {},
     "output_type": "execute_result"
    },
    {
     "data": {
      "image/png": "[encoded data removed]",
      "text/plain": [
       "<Figure size 432x288 with 1 Axes>"
      ]
     },
     "metadata": {
      "needs_background": "light"
     },
     "output_type": "display_data"
    }
   ],
   "source": [
    "# using numpy arrays to create x and y coordinates for plotting graphs\n",
    "x = np.linspace(-10, 10, 100)\n",
    "y = x**2\n",
    "\n",
    "# plotting the graph\n",
    "plt.plot(x,y)"
   ]
  },
  {
   "cell_type": "code",
   "execution_count": 139,
   "id": "b70d8fc2",
   "metadata": {},
   "outputs": [],
   "source": [
    "# chaining numpy functions\n",
    "\n",
    "def f(x):\n",
    "    return x**2 * np.sin(x) / np.exp(-x)\n",
    "\n",
    "x = np.linspace(1, 10, 100)\n",
    "y = f(x)"
   ]
  },
  {
   "cell_type": "code",
   "execution_count": 140,
   "id": "5b296730",
   "metadata": {},
   "outputs": [
    {
     "data": {
      "text/plain": [
       "[<matplotlib.lines.Line2D at 0x12557e020>]"
      ]
     },
     "execution_count": 140,
     "metadata": {},
     "output_type": "execute_result"
    },
    {
     "data": {
      "image/png": "[encoded data removed]",
      "text/plain": [
       "<Figure size 432x288 with 1 Axes>"
      ]
     },
     "metadata": {
      "needs_background": "light"
     },
     "output_type": "display_data"
    }
   ],
   "source": [
    "plt.plot(x, y)"
   ]
  },
  {
   "cell_type": "markdown",
   "id": "910d1c62",
   "metadata": {},
   "source": [
    "##### Some other numpy mathematical functions : \n",
    "\n",
    "##### https://numpy.org/doc/stable/reference/routines.math.html"
   ]
  },
  {
   "cell_type": "markdown",
   "id": "3be4e32c",
   "metadata": {},
   "source": [
    "# Array indexing / slicing"
   ]
  },
  {
   "cell_type": "code",
   "execution_count": 141,
   "id": "087f83c5",
   "metadata": {},
   "outputs": [],
   "source": [
    "# a basic numpy array \n",
    "a = np.array([2, 4, 6, 8, 10])"
   ]
  },
  {
   "cell_type": "code",
   "execution_count": 142,
   "id": "b08e0273",
   "metadata": {},
   "outputs": [
    {
     "data": {
      "text/plain": [
       "-0.27293907370104703"
      ]
     },
     "execution_count": 142,
     "metadata": {},
     "output_type": "execute_result"
    }
   ],
   "source": [
    "# indexing of an array starts for 0\n",
    "# since there are 5 elements in the array the index of last element would be 4\n",
    "a1[2] # this should give the 3rd element that is 6"
   ]
  },
  {
   "cell_type": "code",
   "execution_count": 143,
   "id": "94d2607a",
   "metadata": {},
   "outputs": [
    {
     "data": {
      "text/plain": [
       "array([ 6,  8, 10])"
      ]
     },
     "execution_count": 143,
     "metadata": {},
     "output_type": "execute_result"
    }
   ],
   "source": [
    "a[2:] # this returns an array with elements from the 2nd index onwards"
   ]
  },
  {
   "cell_type": "code",
   "execution_count": 144,
   "id": "f2167574",
   "metadata": {},
   "outputs": [
    {
     "data": {
      "text/plain": [
       "array([2, 4, 6])"
      ]
     },
     "execution_count": 144,
     "metadata": {},
     "output_type": "execute_result"
    }
   ],
   "source": [
    "a[:-2] # this returns an array till the 2nd last element (excluding itself)"
   ]
  },
  {
   "cell_type": "code",
   "execution_count": 145,
   "id": "7cf45aa6",
   "metadata": {},
   "outputs": [
    {
     "data": {
      "text/plain": [
       "array([4, 6])"
      ]
     },
     "execution_count": 145,
     "metadata": {},
     "output_type": "execute_result"
    }
   ],
   "source": [
    "a[1:-2] # this returns an array with element from index 1 onwards till the 2nd last element (excluding itself)"
   ]
  },
  {
   "cell_type": "code",
   "execution_count": 146,
   "id": "bade4578",
   "metadata": {},
   "outputs": [
    {
     "data": {
      "text/plain": [
       "array([False,  True,  True,  True,  True])"
      ]
     },
     "execution_count": 146,
     "metadata": {},
     "output_type": "execute_result"
    }
   ],
   "source": [
    "a>3 # this returns an array with boolen elements, True if element>3 else False"
   ]
  },
  {
   "cell_type": "code",
   "execution_count": 147,
   "id": "b202c698",
   "metadata": {},
   "outputs": [
    {
     "data": {
      "text/plain": [
       "array([ 4,  6,  8, 10])"
      ]
     },
     "execution_count": 147,
     "metadata": {},
     "output_type": "execute_result"
    }
   ],
   "source": [
    "a[a>3] # returns only the array elelements in order that obey the condition "
   ]
  },
  {
   "cell_type": "code",
   "execution_count": 148,
   "id": "4f67c55b",
   "metadata": {},
   "outputs": [],
   "source": [
    "names_list = ['james', 'arnold', 'jimmy', 'elliot', 'sheldon']\n",
    "names = np.array(names_list) # an array of names\n",
    "\n",
    "f = lambda s:s[0] # lambda function : takes a string and returns its first element\n",
    "\n",
    "# the np.vectorise method acts like a loop\n",
    "# it applied the lambda fxn to the names array to return an array of the first letters of the names\n",
    "first_letters = np.vectorize(f)(names)\n",
    "\n",
    "# an array of bools with respoect to the names array with the first letter \"a\"\n",
    "first_letters_a = first_letters == \"a\"\n",
    "\n",
    "# an array of names with the first letter \"a\"\n",
    "names_a = names[first_letters_a]"
   ]
  },
  {
   "cell_type": "code",
   "execution_count": 149,
   "id": "7fbbb84b",
   "metadata": {},
   "outputs": [
    {
     "data": {
      "text/plain": [
       "array([False,  True, False, False, False])"
      ]
     },
     "execution_count": 149,
     "metadata": {},
     "output_type": "execute_result"
    }
   ],
   "source": [
    "first_letters_a"
   ]
  },
  {
   "cell_type": "code",
   "execution_count": 150,
   "id": "67358763",
   "metadata": {},
   "outputs": [
    {
     "data": {
      "text/plain": [
       "array(['arnold'], dtype='<U7')"
      ]
     },
     "execution_count": 150,
     "metadata": {},
     "output_type": "execute_result"
    }
   ],
   "source": [
    "names_a"
   ]
  },
  {
   "cell_type": "markdown",
   "id": "9d40ad59",
   "metadata": {},
   "source": [
    "# Calculus / Statistical Functions"
   ]
  },
  {
   "cell_type": "markdown",
   "id": "113d2268",
   "metadata": {},
   "source": [
    "### Statistics"
   ]
  },
  {
   "cell_type": "code",
   "execution_count": 151,
   "id": "133949d5",
   "metadata": {},
   "outputs": [],
   "source": [
    "# Mean and standard deviation\n",
    "# using the np.random.randn we can create an array whose mean is 0 and standard deviation is 1\n",
    "a1 = np.random.randn(10000)"
   ]
  },
  {
   "cell_type": "code",
   "execution_count": 152,
   "id": "bbce034e",
   "metadata": {},
   "outputs": [
    {
     "data": {
      "text/plain": [
       "0.012227346555326937"
      ]
     },
     "execution_count": 152,
     "metadata": {},
     "output_type": "execute_result"
    }
   ],
   "source": [
    "np.mean(a1)"
   ]
  },
  {
   "cell_type": "code",
   "execution_count": 153,
   "id": "0b2504db",
   "metadata": {},
   "outputs": [
    {
     "data": {
      "text/plain": [
       "0.9999368145264289"
      ]
     },
     "execution_count": 153,
     "metadata": {},
     "output_type": "execute_result"
    }
   ],
   "source": [
    "np.std(a1)"
   ]
  },
  {
   "cell_type": "code",
   "execution_count": 154,
   "id": "7dc73ebf",
   "metadata": {},
   "outputs": [],
   "source": [
    "# Means and standard deviations of datasets or arrays are affected by mathematical operations \n",
    "\n",
    "# when one multiplies an array with a scalar the mean increases by the a value of scalar\n",
    "# when one adds a scalar to an array, the mean is exceeded by a value of the scalar\n",
    "\n",
    "# multiplying the array increased the standard deviation by scalar value times\n",
    "# adding a scalar to an array does not affect the standard deviation of the array\n",
    "\n",
    "a2 = 2*a1 + 10"
   ]
  },
  {
   "cell_type": "code",
   "execution_count": 155,
   "id": "67235e5c",
   "metadata": {},
   "outputs": [
    {
     "data": {
      "text/plain": [
       "10.024454693110654"
      ]
     },
     "execution_count": 155,
     "metadata": {},
     "output_type": "execute_result"
    }
   ],
   "source": [
    "np.mean(a2)"
   ]
  },
  {
   "cell_type": "code",
   "execution_count": 156,
   "id": "1b6a05cb",
   "metadata": {},
   "outputs": [
    {
     "data": {
      "text/plain": [
       "1.9998736290528578"
      ]
     },
     "execution_count": 156,
     "metadata": {},
     "output_type": "execute_result"
    }
   ],
   "source": [
    "np.std(a2)"
   ]
  },
  {
   "cell_type": "code",
   "execution_count": 157,
   "id": "cd060a78",
   "metadata": {},
   "outputs": [
    {
     "data": {
      "text/plain": [
       "0.8460193631389245"
      ]
     },
     "execution_count": 157,
     "metadata": {},
     "output_type": "execute_result"
    }
   ],
   "source": [
    "# percentile tell you how much ahead and how much behind an element is in a dataset\n",
    "# 100 percentile means the number is the greatest of all elememts in an array\n",
    "# 0 percentile means the number is the smallest of all elements in an array\n",
    "# similarly x percentile means the element is greter than x% of the elemnts and smaller than (100-x)% \n",
    "np.percentile(a1, 80)\n",
    "# this returns a number that has the 80th percentile"
   ]
  },
  {
   "cell_type": "markdown",
   "id": "0cea2270",
   "metadata": {},
   "source": [
    "### Calculus"
   ]
  },
  {
   "cell_type": "code",
   "execution_count": 158,
   "id": "2eaffb29",
   "metadata": {},
   "outputs": [],
   "source": [
    "x = np.linspace(1, 10, 100)\n",
    "y = 1/x**2 * np.sin(x)\n",
    "\n",
    "grad = np.gradient(y) # gradient\n",
    "cum_sum = np.cumsum(y) # cumulative sum\n",
    "\n",
    "arr = np.array([1, 2, 3, 4])\n",
    "cumsum_arr = np.cumsum(arr)"
   ]
  },
  {
   "cell_type": "code",
   "execution_count": 159,
   "id": "7dbc84c4",
   "metadata": {},
   "outputs": [
    {
     "data": {
      "text/plain": [
       "array([ 1,  3,  6, 10])"
      ]
     },
     "execution_count": 159,
     "metadata": {},
     "output_type": "execute_result"
    }
   ],
   "source": [
    "cumsum_arr\n",
    "# element 1 (index = 0) :  1 (1)\n",
    "# element 2 (index = 1) :  3 (1 + 2)\n",
    "# element 3 (index = 2) :  6 (1 + 2 + 3)\n",
    "# element 4 (index = 3) : 10 (1 + 2 + 3 + 4)"
   ]
  },
  {
   "cell_type": "code",
   "execution_count": 160,
   "id": "687099e7",
   "metadata": {},
   "outputs": [
    {
     "data": {
      "text/plain": [
       "<matplotlib.legend.Legend at 0x1255baad0>"
      ]
     },
     "execution_count": 160,
     "metadata": {},
     "output_type": "execute_result"
    },
    {
     "data": {
      "image/png": "[encoded data removed]",
      "text/plain": [
       "<Figure size 432x288 with 1 Axes>"
      ]
     },
     "metadata": {
      "needs_background": "light"
     },
     "output_type": "display_data"
    }
   ],
   "source": [
    "plt.plot(x, y, label = 'function')\n",
    "plt.plot(x, grad, label = 'gradient')\n",
    "plt.plot(x, cum_sum, label = 'cumulative sum')\n",
    "plt.legend() # to show the curve labels"
   ]
  },
  {
   "cell_type": "code",
   "execution_count": 161,
   "id": "8c9c5702",
   "metadata": {},
   "outputs": [],
   "source": [
    "dydx = np.gradient(y,x) # calculating derivative\n",
    "integral = np.cumsum(y) * (x[1] - x[0]) # integral"
   ]
  },
  {
   "cell_type": "code",
   "execution_count": 162,
   "id": "f726ec6a",
   "metadata": {},
   "outputs": [
    {
     "data": {
      "text/plain": [
       "<matplotlib.legend.Legend at 0x12557f700>"
      ]
     },
     "execution_count": 162,
     "metadata": {},
     "output_type": "execute_result"
    },
    {
     "data": {
      "image/png": "[encoded data removed]",
      "text/plain": [
       "<Figure size 432x288 with 1 Axes>"
      ]
     },
     "metadata": {
      "needs_background": "light"
     },
     "output_type": "display_data"
    }
   ],
   "source": [
    "plt.plot(x, y, label = 'function')\n",
    "plt.plot(x, dydx, label = 'derivative')\n",
    "plt.plot(x, integral, label = 'integral')\n",
    "plt.legend()"
   ]
  },
  {
   "cell_type": "markdown",
   "id": "f814e907",
   "metadata": {},
   "source": [
    "# Examples"
   ]
  },
  {
   "cell_type": "markdown",
   "id": "c2898ab0",
   "metadata": {},
   "source": [
    "## Question 1:\n",
    "\n",
    "Let $y=e^{-x/10} \\sin(x)$. Consider 10000 $x$ intervals in the range $[0,10]$\n",
    "\n",
    "1. Plot the function $y$ vs. $x$ in the range $[0, 10]$. \n",
    "2. Compute the mean and standard deviation of $y$ for $x$ values in $[4,7]$\n",
    "3. For $x$ in the range $[4,7]$, find the value $y_m$ such that 80% of $y$ values are less than $y_m$\n",
    "4. Plot $dy/dx$ vs $x$\n",
    "5. Find the locations where $dy/dx=0$ "
   ]
  },
  {
   "cell_type": "code",
   "execution_count": 163,
   "id": "4eed58dc",
   "metadata": {},
   "outputs": [],
   "source": [
    "x = np.linspace(0, 10, 10000)\n",
    "y = np.exp(-x/10) * np.sin(x)"
   ]
  },
  {
   "cell_type": "code",
   "execution_count": 164,
   "id": "a717e922",
   "metadata": {},
   "outputs": [
    {
     "data": {
      "text/plain": [
       "[<matplotlib.lines.Line2D at 0x1259614e0>]"
      ]
     },
     "execution_count": 164,
     "metadata": {},
     "output_type": "execute_result"
    },
    {
     "data": {
      "image/png": "[encoded data removed]",
      "text/plain": [
       "<Figure size 432x288 with 1 Axes>"
      ]
     },
     "metadata": {
      "needs_background": "light"
     },
     "output_type": "display_data"
    }
   ],
   "source": [
    "# 1\n",
    "\n",
    "plt.plot(x, y)"
   ]
  },
  {
   "cell_type": "code",
   "execution_count": 165,
   "id": "ab643b06",
   "metadata": {},
   "outputs": [],
   "source": [
    "# 2\n",
    "\n",
    "arr = x[(x>=4) * (x<=7)]"
   ]
  },
  {
   "cell_type": "code",
   "execution_count": 166,
   "id": "d5e1e3c3",
   "metadata": {},
   "outputs": [
    {
     "data": {
      "text/plain": [
       "5.5000500050004995"
      ]
     },
     "execution_count": 166,
     "metadata": {},
     "output_type": "execute_result"
    }
   ],
   "source": [
    "np.mean(arr)"
   ]
  },
  {
   "cell_type": "code",
   "execution_count": 167,
   "id": "fc61a1f9",
   "metadata": {},
   "outputs": [
    {
     "data": {
      "text/plain": [
       "0.8661119668686017"
      ]
     },
     "execution_count": 167,
     "metadata": {},
     "output_type": "execute_result"
    }
   ],
   "source": [
    "np.std(arr)"
   ]
  },
  {
   "cell_type": "code",
   "execution_count": 168,
   "id": "14dbf09e",
   "metadata": {},
   "outputs": [
    {
     "data": {
      "text/plain": [
       "6.3998399839984"
      ]
     },
     "execution_count": 168,
     "metadata": {},
     "output_type": "execute_result"
    }
   ],
   "source": [
    "# 3\n",
    "\n",
    "np.percentile(arr, 80)"
   ]
  },
  {
   "cell_type": "code",
   "execution_count": 169,
   "id": "ea11be5f",
   "metadata": {},
   "outputs": [
    {
     "data": {
      "text/plain": [
       "[<matplotlib.lines.Line2D at 0x125915060>]"
      ]
     },
     "execution_count": 169,
     "metadata": {},
     "output_type": "execute_result"
    },
    {
     "data": {
      "image/png": "[encoded data removed]",
      "text/plain": [
       "<Figure size 432x288 with 1 Axes>"
      ]
     },
     "metadata": {
      "needs_background": "light"
     },
     "output_type": "display_data"
    }
   ],
   "source": [
    "# 4\n",
    "\n",
    "dydx = np.gradient(y, x)\n",
    "plt.plot(x, dydx)"
   ]
  },
  {
   "cell_type": "code",
   "execution_count": 170,
   "id": "07db8227",
   "metadata": {},
   "outputs": [
    {
     "data": {
      "text/plain": [
       "array([1.47114711, 4.61346135, 7.75477548])"
      ]
     },
     "execution_count": 170,
     "metadata": {},
     "output_type": "execute_result"
    }
   ],
   "source": [
    "# 5\n",
    "\n",
    "dydx1 = dydx[:-1] # elements from 1st to 2nd last\n",
    "dydx2 = dydx[1:] # elements from 2nd to last\n",
    "\n",
    "# now in dydx curve when there are points where dydx < 0 and points where dydx > 0\n",
    "# when sign switches product of 2 consecutuve points < 0\n",
    "# and those are the point where dydx = 0\n",
    "dydx0 = dydx1 * dydx2 < 0\n",
    "\n",
    "x[1:][dydx0]"
   ]
  },
  {
   "cell_type": "markdown",
   "id": "f994590a",
   "metadata": {},
   "source": [
    "# Question 2:\n",
    "\n",
    "Sum together every number from 0 to 10000 except for those than can be divided by 4 or 7. Do this in one line of code"
   ]
  },
  {
   "cell_type": "code",
   "execution_count": 171,
   "id": "09767380",
   "metadata": {},
   "outputs": [
    {
     "data": {
      "text/plain": [
       "32147142"
      ]
     },
     "execution_count": 171,
     "metadata": {},
     "output_type": "execute_result"
    }
   ],
   "source": [
    "sum(np.arange(0, 10001, 1)[(np.arange(0, 10001, 1) % 4 != 0) * (np.arange(0, 10001, 1) % 7 != 0)])"
   ]
  },
  {
   "cell_type": "code",
   "execution_count": 172,
   "id": "177b6fa8",
   "metadata": {},
   "outputs": [
    {
     "data": {
      "text/plain": [
       "32147142"
      ]
     },
     "execution_count": 172,
     "metadata": {},
     "output_type": "execute_result"
    }
   ],
   "source": [
    "# logic for question 2 separated in lines\n",
    "    \n",
    "arr_full = np.arange(0, 10001, 1)\n",
    "bool_arr_not_4 = arr_full % 4 != 0\n",
    "bool_arr_not_7 = arr_full % 7 != 0\n",
    "arr_required = arr_full[bool_arr_not_4 * bool_arr_not_7]\n",
    "sum(arr_required)"
   ]
  },
  {
   "cell_type": "markdown",
   "id": "e83426b5",
   "metadata": {},
   "source": [
    "## Question 3:\n",
    "\n",
    "Consider the flower petal $r(\\theta) = 1+\\frac{3}{4}\\sin(3 \\theta)$ for $0 \\leq \\theta \\leq 2 \\pi$\n",
    "\n",
    "1. Make a plot of the flower (find x and y points)\n",
    "2. Compute the area using the calculus formula $A = \\int_{0}^{2\\pi} \\frac{1}{2} r^2 d\\theta$\n",
    "3. Compute the arclength using the calculus formula $L = \\int_{0}^{2 \\pi} \\sqrt{r^2 + \\left(\\frac{dr}{d\\theta}\\right)^2} d\\theta$"
   ]
  },
  {
   "cell_type": "code",
   "execution_count": 173,
   "id": "c1383640",
   "metadata": {},
   "outputs": [],
   "source": [
    "# creating a flower for her\n",
    "\n",
    "theta = np.linspace(0, 2 * np.pi, 10000)\n",
    "r = 1 + 3/4 * np.sin(3 * theta) # change 3 * theta to n * theta to get n petals"
   ]
  },
  {
   "cell_type": "code",
   "execution_count": 174,
   "id": "4c3c1a61",
   "metadata": {},
   "outputs": [
    {
     "data": {
      "text/plain": [
       "Text(0, 0.5, 'r')"
      ]
     },
     "execution_count": 174,
     "metadata": {},
     "output_type": "execute_result"
    },
    {
     "data": {
      "image/png": "[encoded data removed]",
      "text/plain": [
       "<Figure size 432x288 with 1 Axes>"
      ]
     },
     "metadata": {
      "needs_background": "light"
     },
     "output_type": "display_data"
    }
   ],
   "source": [
    "# 1\n",
    "\n",
    "x = r * np.cos(theta)\n",
    "y = r * np.sin(theta)\n",
    "plt.plot(x, y)\n",
    "plt.xlabel(\"theta\", fontsize = 20)\n",
    "plt.ylabel(\"r\", fontsize = 20)"
   ]
  },
  {
   "cell_type": "code",
   "execution_count": 175,
   "id": "0ae110ae",
   "metadata": {},
   "outputs": [
    {
     "data": {
      "text/plain": [
       "4.025479778096348"
      ]
     },
     "execution_count": 175,
     "metadata": {},
     "output_type": "execute_result"
    }
   ],
   "source": [
    "# 2\n",
    "\n",
    "d_theta = theta[1] - theta[0]\n",
    "cum_sum = np.cumsum(1/2 * r ** 2)\n",
    "A = cum_sum * d_theta\n",
    "\n",
    "A[-1]"
   ]
  },
  {
   "cell_type": "code",
   "execution_count": 176,
   "id": "0353db8d",
   "metadata": {},
   "outputs": [
    {
     "data": {
      "text/plain": [
       "4.025479778096348"
      ]
     },
     "execution_count": 176,
     "metadata": {},
     "output_type": "execute_result"
    }
   ],
   "source": [
    "# 2 (another method)\n",
    "\n",
    "integral = 1/2 * sum(r ** 2) * d_theta\n",
    "integral"
   ]
  },
  {
   "cell_type": "code",
   "execution_count": 177,
   "id": "0a6d9b28",
   "metadata": {},
   "outputs": [
    {
     "data": {
      "text/plain": [
       "11.626531213518827"
      ]
     },
     "execution_count": 177,
     "metadata": {},
     "output_type": "execute_result"
    }
   ],
   "source": [
    "# 3\n",
    "\n",
    "L = sum(np.sqrt(r ** 2 + np.gradient(r, theta) ** 2)) * d_theta\n",
    "L"
   ]
  },
  {
   "cell_type": "markdown",
   "id": "4a5774e9",
   "metadata": {},
   "source": [
    "# Multidimentional arrays"
   ]
  },
  {
   "cell_type": "markdown",
   "id": "36abda4e",
   "metadata": {},
   "source": [
    "### Creating Multidimentinal arrays"
   ]
  },
  {
   "cell_type": "code",
   "execution_count": 178,
   "id": "94040631",
   "metadata": {},
   "outputs": [],
   "source": [
    "m_arr_1 = np.array([[1,2,3],[4,5,6],[7,8,9]])"
   ]
  },
  {
   "cell_type": "code",
   "execution_count": 179,
   "id": "d2cee472",
   "metadata": {},
   "outputs": [
    {
     "data": {
      "text/plain": [
       "array([[1, 2, 3],\n",
       "       [4, 5, 6],\n",
       "       [7, 8, 9]])"
      ]
     },
     "execution_count": 179,
     "metadata": {},
     "output_type": "execute_result"
    }
   ],
   "source": [
    "m_arr_1"
   ]
  },
  {
   "cell_type": "code",
   "execution_count": 180,
   "id": "d82a1cd7",
   "metadata": {},
   "outputs": [],
   "source": [
    "# a 2D array with normal elements \n",
    "m_arr_2 = np.random.randn(3,3)"
   ]
  },
  {
   "cell_type": "code",
   "execution_count": 181,
   "id": "b9fc288c",
   "metadata": {},
   "outputs": [
    {
     "data": {
      "text/plain": [
       "array([[-0.9548766 ,  1.83321064, -0.55355082],\n",
       "       [-1.80908474, -2.07696158, -0.59795705],\n",
       "       [ 0.34179067, -0.40963031,  1.10309558]])"
      ]
     },
     "execution_count": 181,
     "metadata": {},
     "output_type": "execute_result"
    }
   ],
   "source": [
    "m_arr_2"
   ]
  },
  {
   "cell_type": "code",
   "execution_count": 182,
   "id": "70d5becd",
   "metadata": {},
   "outputs": [
    {
     "data": {
      "text/plain": [
       "array([1, 2, 3, 4, 5, 6, 7, 8, 9])"
      ]
     },
     "execution_count": 182,
     "metadata": {},
     "output_type": "execute_result"
    }
   ],
   "source": [
    "m_arr_1.ravel() # creates a 1D array from a multidimentional array"
   ]
  },
  {
   "cell_type": "markdown",
   "id": "cdf7c8ed",
   "metadata": {},
   "source": [
    "### Indexing"
   ]
  },
  {
   "cell_type": "code",
   "execution_count": 183,
   "id": "bb2dad4b",
   "metadata": {},
   "outputs": [
    {
     "data": {
      "text/plain": [
       "array([7, 8, 9])"
      ]
     },
     "execution_count": 183,
     "metadata": {},
     "output_type": "execute_result"
    }
   ],
   "source": [
    "m_arr_1[2] # gives the 3rd row of the array which has index = 2"
   ]
  },
  {
   "cell_type": "code",
   "execution_count": 184,
   "id": "d320f964",
   "metadata": {},
   "outputs": [
    {
     "data": {
      "text/plain": [
       "6"
      ]
     },
     "execution_count": 184,
     "metadata": {},
     "output_type": "execute_result"
    }
   ],
   "source": [
    "m_arr_1[1][2] # gives the 3rd element of the 2nd row"
   ]
  },
  {
   "cell_type": "markdown",
   "id": "065a7cc2",
   "metadata": {},
   "source": [
    "### Slicing"
   ]
  },
  {
   "cell_type": "code",
   "execution_count": 185,
   "id": "09f1ce70",
   "metadata": {},
   "outputs": [
    {
     "data": {
      "text/plain": [
       "array([[1, 2, 3],\n",
       "       [4, 5, 6]])"
      ]
     },
     "execution_count": 185,
     "metadata": {},
     "output_type": "execute_result"
    }
   ],
   "source": [
    "m_arr_1[:2] # returns the 1st 2 rows of the 2D array"
   ]
  },
  {
   "cell_type": "code",
   "execution_count": 186,
   "id": "9f753801",
   "metadata": {},
   "outputs": [
    {
     "data": {
      "text/plain": [
       "array([2, 5, 8])"
      ]
     },
     "execution_count": 186,
     "metadata": {},
     "output_type": "execute_result"
    }
   ],
   "source": [
    "# but slicing if we want only some particular elements is a bit different\n",
    "m_arr_1[:,1] # this goes across all rows and takes the element with index = 1 in each rows an returns an array"
   ]
  },
  {
   "cell_type": "code",
   "execution_count": 187,
   "id": "fc7d589d",
   "metadata": {},
   "outputs": [
    {
     "data": {
      "text/plain": [
       "array([4, 7])"
      ]
     },
     "execution_count": 187,
     "metadata": {},
     "output_type": "execute_result"
    }
   ],
   "source": [
    "m_arr_1[1:,0] # this goes across the rows starting with index = 1 and takes the 1st element of each of those rows"
   ]
  },
  {
   "cell_type": "code",
   "execution_count": 188,
   "id": "d3abc032",
   "metadata": {},
   "outputs": [
    {
     "data": {
      "text/plain": [
       "array([[1, 2],\n",
       "       [4, 5]])"
      ]
     },
     "execution_count": 188,
     "metadata": {},
     "output_type": "execute_result"
    }
   ],
   "source": [
    "m_arr_1[:-1,:-1]\n",
    "# returns an array with arrays of elements exluding the last row of the 2D array and the last element of each row"
   ]
  },
  {
   "cell_type": "markdown",
   "id": "96513bdc",
   "metadata": {},
   "source": [
    "# Linear Algebra"
   ]
  },
  {
   "cell_type": "markdown",
   "id": "8219b8ad",
   "metadata": {},
   "source": [
    "### Creating matrices"
   ]
  },
  {
   "cell_type": "code",
   "execution_count": 189,
   "id": "e583cb36",
   "metadata": {},
   "outputs": [],
   "source": [
    "# one way of creating is matrices is a simpel multidimentional array\n",
    "# but there are several other kinds of matrices as well\n",
    "\n",
    "mat_a = np.eye(3) # identity matrix 3x3\n",
    "mat_b = np.zeros((3, 4)) # zero matrix 3x4\n",
    "mat_c = np.full((5, 2), 4) # matrix with all elements \"4\" 5x2"
   ]
  },
  {
   "cell_type": "code",
   "execution_count": 190,
   "id": "ac45bfa0",
   "metadata": {},
   "outputs": [
    {
     "data": {
      "text/plain": [
       "array([[1., 0., 0.],\n",
       "       [0., 1., 0.],\n",
       "       [0., 0., 1.]])"
      ]
     },
     "execution_count": 190,
     "metadata": {},
     "output_type": "execute_result"
    }
   ],
   "source": [
    "mat_a"
   ]
  },
  {
   "cell_type": "code",
   "execution_count": 191,
   "id": "545579cc",
   "metadata": {},
   "outputs": [
    {
     "data": {
      "text/plain": [
       "array([[0., 0., 0., 0.],\n",
       "       [0., 0., 0., 0.],\n",
       "       [0., 0., 0., 0.]])"
      ]
     },
     "execution_count": 191,
     "metadata": {},
     "output_type": "execute_result"
    }
   ],
   "source": [
    "mat_b"
   ]
  },
  {
   "cell_type": "code",
   "execution_count": 192,
   "id": "43c303f7",
   "metadata": {},
   "outputs": [
    {
     "data": {
      "text/plain": [
       "array([[4, 4],\n",
       "       [4, 4],\n",
       "       [4, 4],\n",
       "       [4, 4],\n",
       "       [4, 4]])"
      ]
     },
     "execution_count": 192,
     "metadata": {},
     "output_type": "execute_result"
    }
   ],
   "source": [
    "mat_c"
   ]
  },
  {
   "cell_type": "code",
   "execution_count": 193,
   "id": "75ccbef9",
   "metadata": {},
   "outputs": [],
   "source": [
    "mat_d = np.random.random((3,4)) # matrix with random nums between 0 and 1\n",
    "mat_e = np.random.randn(3,3) # matrix with random normal nums"
   ]
  },
  {
   "cell_type": "code",
   "execution_count": 194,
   "id": "63494154",
   "metadata": {},
   "outputs": [
    {
     "data": {
      "text/plain": [
       "array([[0.99511781, 0.67940758, 0.28711512, 0.20081947],\n",
       "       [0.92760538, 0.81080221, 0.07372792, 0.38179325],\n",
       "       [0.68663171, 0.2701358 , 0.57834092, 0.56245549]])"
      ]
     },
     "execution_count": 194,
     "metadata": {},
     "output_type": "execute_result"
    }
   ],
   "source": [
    "mat_d"
   ]
  },
  {
   "cell_type": "code",
   "execution_count": 195,
   "id": "3bf0ecb4",
   "metadata": {},
   "outputs": [
    {
     "data": {
      "text/plain": [
       "array([[ 1.73965124,  0.6243251 ,  0.66160309],\n",
       "       [ 0.89813896, -0.40303814, -1.12034206],\n",
       "       [-2.20942293,  1.0813269 ,  0.53699484]])"
      ]
     },
     "execution_count": 195,
     "metadata": {},
     "output_type": "execute_result"
    }
   ],
   "source": [
    "mat_e"
   ]
  },
  {
   "cell_type": "markdown",
   "id": "a29323c2",
   "metadata": {},
   "source": [
    "### Matrix Operations"
   ]
  },
  {
   "cell_type": "code",
   "execution_count": 196,
   "id": "6f592f9d",
   "metadata": {},
   "outputs": [],
   "source": [
    "# Addition and subtrcation of matrices occur when they have the same dimetion and the same number of rows & columns\n",
    "# Multipying an array by a scalar is multiplying each element by the scalar\n",
    "# These operations have already been demonstrated by the use of NumPy arrays\n",
    "\n",
    "# Multiplication of a matrix by a vector\n",
    "A = m_arr_1\n",
    "B = np.array([1, 2, 3]) # a vector\n",
    "C = np.array([4, 5, 5]) # another vector\n",
    "C = A@B"
   ]
  },
  {
   "cell_type": "code",
   "execution_count": 197,
   "id": "dd9b36f2",
   "metadata": {},
   "outputs": [
    {
     "data": {
      "text/plain": [
       "array([14, 32, 50])"
      ]
     },
     "execution_count": 197,
     "metadata": {},
     "output_type": "execute_result"
    }
   ],
   "source": [
    "C # matrix * vector = vector"
   ]
  },
  {
   "cell_type": "code",
   "execution_count": 198,
   "id": "2ffda2ba",
   "metadata": {},
   "outputs": [
    {
     "data": {
      "text/plain": [
       "array([[ 0.42619902],\n",
       "       [-2.73284909],\n",
       "       [-0.97671093]])"
      ]
     },
     "execution_count": 198,
     "metadata": {},
     "output_type": "execute_result"
    }
   ],
   "source": [
    "# M1 is a 3x3 matrix and M2 is a 3x1 matrix\n",
    "# columns(M1) = rows(M2), hence they can me multiplied to give a matrix M3 = M1 x M2\n",
    "# M3 is a 3x1 matrix will have rows = rows(M1) = 3 and columns = columns(M2) = 1\n",
    "\n",
    "M1 = np.random.randn(3,3)\n",
    "M2 = np.random.randn(3,1)\n",
    "\n",
    "M3 = np.matmul(M1, M2)\n",
    "\n",
    "M3"
   ]
  },
  {
   "cell_type": "code",
   "execution_count": 199,
   "id": "38a21648",
   "metadata": {
    "scrolled": true
   },
   "outputs": [
    {
     "data": {
      "text/plain": [
       "array([[1, 4, 7],\n",
       "       [2, 5, 8],\n",
       "       [3, 6, 9]])"
      ]
     },
     "execution_count": 199,
     "metadata": {},
     "output_type": "execute_result"
    }
   ],
   "source": [
    "A.T # transpose of a matrix"
   ]
  },
  {
   "cell_type": "code",
   "execution_count": 200,
   "id": "e2fe4b25",
   "metadata": {},
   "outputs": [
    {
     "data": {
      "text/plain": [
       "array([[1],\n",
       "       [2],\n",
       "       [3]])"
      ]
     },
     "execution_count": 200,
     "metadata": {},
     "output_type": "execute_result"
    }
   ],
   "source": [
    "# when transposing a 1D matrix (1xn) then an extra attribute is added to the matrix creation method\n",
    "M = np.array([1, 2, 3], ndmin = 2)\n",
    "M.T"
   ]
  },
  {
   "cell_type": "code",
   "execution_count": 201,
   "id": "859f8efa",
   "metadata": {},
   "outputs": [
    {
     "data": {
      "text/plain": [
       "228"
      ]
     },
     "execution_count": 201,
     "metadata": {},
     "output_type": "execute_result"
    }
   ],
   "source": [
    "np.dot(B, C) # dot product of 2 vectors (a scalar) is sum of product of correcponding elements"
   ]
  },
  {
   "cell_type": "code",
   "execution_count": 202,
   "id": "a9da79cd",
   "metadata": {},
   "outputs": [
    {
     "data": {
      "text/plain": [
       "228"
      ]
     },
     "execution_count": 202,
     "metadata": {},
     "output_type": "execute_result"
    }
   ],
   "source": [
    "sum(B * C) # another method of calculating dot product"
   ]
  },
  {
   "cell_type": "code",
   "execution_count": 203,
   "id": "ca0a2129",
   "metadata": {},
   "outputs": [
    {
     "data": {
      "text/plain": [
       "array([ 4, -8,  4])"
      ]
     },
     "execution_count": 203,
     "metadata": {},
     "output_type": "execute_result"
    }
   ],
   "source": [
    "np.cross(B, C) # cross product of 2 vectors (a vector) "
   ]
  },
  {
   "cell_type": "markdown",
   "id": "d15d8355",
   "metadata": {},
   "source": [
    "### System of equations"
   ]
  },
  {
   "cell_type": "markdown",
   "id": "5fbe1f22",
   "metadata": {},
   "source": [
    "$ 3x + 2y + z = 4$\n",
    "\n",
    "$ 5x -5y + 4z = 3$\n",
    "\n",
    "$ 6x +z = 0$"
   ]
  },
  {
   "cell_type": "code",
   "execution_count": 204,
   "id": "aab7cbeb",
   "metadata": {},
   "outputs": [],
   "source": [
    "A = np.array([[3, 2, 1], [5, -5, 4], [6, 0, 1]]) # a matrix of coefficients\n",
    "B = np.array([4, 3, 0]) # a matrix of values\n",
    "\n",
    "sol = np.linalg.solve(A, B) # in form of an array as array([x, y, z])"
   ]
  },
  {
   "cell_type": "code",
   "execution_count": 205,
   "id": "762b48f8",
   "metadata": {},
   "outputs": [
    {
     "data": {
      "text/plain": [
       "array([-0.49056604,  1.26415094,  2.94339623])"
      ]
     },
     "execution_count": 205,
     "metadata": {},
     "output_type": "execute_result"
    }
   ],
   "source": [
    "sol"
   ]
  },
  {
   "cell_type": "markdown",
   "id": "e1664f92",
   "metadata": {},
   "source": [
    "# Basic Datasets"
   ]
  },
  {
   "cell_type": "code",
   "execution_count": 206,
   "id": "7e382950",
   "metadata": {},
   "outputs": [],
   "source": [
    "# loading data\n",
    "data = np.loadtxt('scores.csv', dtype='object')"
   ]
  },
  {
   "cell_type": "code",
   "execution_count": 207,
   "id": "20036905",
   "metadata": {},
   "outputs": [
    {
     "data": {
      "text/plain": [
       "array(['student_number,name,gender,DOB,City,mathematics,physics,chemistry',\n",
       "       '1,Bhuvanesh,M,04-27,Aurangabad,42,4,94',\n",
       "       '2,Harish,M,05-06,Nashik,66,46,73',\n",
       "       '3,Shashank,M,04-14,Aurangabad,55,16,11',\n",
       "       '4,Rida,F,06-21,Bhubaneshwar,26,79,34',\n",
       "       '5,Ritika,F,05-26,Nashik,33,3,47',\n",
       "       '6,Akshaya,F,07-17,Nashik,86,99,48',\n",
       "       '7,Sameer,M,05-21,Nashik,20,11,6',\n",
       "       '8,Aditya,M,04-02,Nashik,51,39,59',\n",
       "       '9,Surya,M,01-12,Manglore,83,74,66',\n",
       "       '10,Clarence,M,02-12,Aurangabad,4,40,11',\n",
       "       '11,Kavya,F,06-26,Manglore,96,87,29',\n",
       "       '12,Rahul,M,05-11,Nashik,56,53,39',\n",
       "       '13,Srinidhi,F,01-11,Patna,65,19,45',\n",
       "       '14,Gopi,M,02-04,Nashik,87,47,46',\n",
       "       '15,Sophia,F,01-14,Bhubaneshwar,73,26,45',\n",
       "       '16,Goutami,F,02-02,Bhubaneshwar,8,64,38',\n",
       "       '17,Tauseef,M,07-14,Manglore,69,79,86',\n",
       "       '18,Arshad,M,04-15,Nashik,72,89,83',\n",
       "       '19,Abirami,F,03-02,Jabalpur,84,94,0',\n",
       "       '20,Vetrivel,M,03-15,Bhubaneshwar,34,47,2',\n",
       "       '21,Kalyan,M,05-21,Bhubaneshwar,60,97,24',\n",
       "       '22,Monika,F,04-21,Patna,79,90,54',\n",
       "       '23,Priya,F,04-20,Aurangabad,16,19,88',\n",
       "       '24,Deepika,F,04-29,Bhubaneshwar,56,9,27',\n",
       "       '25,Siddharth,M,01-21,Patna,54,1,57',\n",
       "       '26,Geeta,F,06-02,Patna,8,4,92', '27,JK,M,07-19,Nashik,76,19,76',\n",
       "       '28,Jagan,M,06-10,Bhubaneshwar,36,88,0',\n",
       "       '29,Nisha,F,05-14,Nashik,46,47,3',\n",
       "       '30,Naveen,M,03-06,Nashik,31,77,94'], dtype=object)"
      ]
     },
     "execution_count": 207,
     "metadata": {},
     "output_type": "execute_result"
    }
   ],
   "source": [
    "data # the data is represented as one array"
   ]
  },
  {
   "cell_type": "code",
   "execution_count": 208,
   "id": "bd887564",
   "metadata": {},
   "outputs": [],
   "source": [
    "# but a neater form of prsesnting data would be different arrays for each row\n",
    "data = np.loadtxt('scores.csv', dtype = 'object', delimiter = ',')"
   ]
  },
  {
   "cell_type": "code",
   "execution_count": 209,
   "id": "b323595f",
   "metadata": {},
   "outputs": [
    {
     "data": {
      "text/plain": [
       "array([['student_number', 'name', 'gender', 'DOB', 'City', 'mathematics',\n",
       "        'physics', 'chemistry'],\n",
       "       ['1', 'Bhuvanesh', 'M', '04-27', 'Aurangabad', '42', '4', '94'],\n",
       "       ['2', 'Harish', 'M', '05-06', 'Nashik', '66', '46', '73'],\n",
       "       ['3', 'Shashank', 'M', '04-14', 'Aurangabad', '55', '16', '11'],\n",
       "       ['4', 'Rida', 'F', '06-21', 'Bhubaneshwar', '26', '79', '34'],\n",
       "       ['5', 'Ritika', 'F', '05-26', 'Nashik', '33', '3', '47'],\n",
       "       ['6', 'Akshaya', 'F', '07-17', 'Nashik', '86', '99', '48'],\n",
       "       ['7', 'Sameer', 'M', '05-21', 'Nashik', '20', '11', '6'],\n",
       "       ['8', 'Aditya', 'M', '04-02', 'Nashik', '51', '39', '59'],\n",
       "       ['9', 'Surya', 'M', '01-12', 'Manglore', '83', '74', '66'],\n",
       "       ['10', 'Clarence', 'M', '02-12', 'Aurangabad', '4', '40', '11'],\n",
       "       ['11', 'Kavya', 'F', '06-26', 'Manglore', '96', '87', '29'],\n",
       "       ['12', 'Rahul', 'M', '05-11', 'Nashik', '56', '53', '39'],\n",
       "       ['13', 'Srinidhi', 'F', '01-11', 'Patna', '65', '19', '45'],\n",
       "       ['14', 'Gopi', 'M', '02-04', 'Nashik', '87', '47', '46'],\n",
       "       ['15', 'Sophia', 'F', '01-14', 'Bhubaneshwar', '73', '26', '45'],\n",
       "       ['16', 'Goutami', 'F', '02-02', 'Bhubaneshwar', '8', '64', '38'],\n",
       "       ['17', 'Tauseef', 'M', '07-14', 'Manglore', '69', '79', '86'],\n",
       "       ['18', 'Arshad', 'M', '04-15', 'Nashik', '72', '89', '83'],\n",
       "       ['19', 'Abirami', 'F', '03-02', 'Jabalpur', '84', '94', '0'],\n",
       "       ['20', 'Vetrivel', 'M', '03-15', 'Bhubaneshwar', '34', '47', '2'],\n",
       "       ['21', 'Kalyan', 'M', '05-21', 'Bhubaneshwar', '60', '97', '24'],\n",
       "       ['22', 'Monika', 'F', '04-21', 'Patna', '79', '90', '54'],\n",
       "       ['23', 'Priya', 'F', '04-20', 'Aurangabad', '16', '19', '88'],\n",
       "       ['24', 'Deepika', 'F', '04-29', 'Bhubaneshwar', '56', '9', '27'],\n",
       "       ['25', 'Siddharth', 'M', '01-21', 'Patna', '54', '1', '57'],\n",
       "       ['26', 'Geeta', 'F', '06-02', 'Patna', '8', '4', '92'],\n",
       "       ['27', 'JK', 'M', '07-19', 'Nashik', '76', '19', '76'],\n",
       "       ['28', 'Jagan', 'M', '06-10', 'Bhubaneshwar', '36', '88', '0'],\n",
       "       ['29', 'Nisha', 'F', '05-14', 'Nashik', '46', '47', '3'],\n",
       "       ['30', 'Naveen', 'M', '03-06', 'Nashik', '31', '77', '94']],\n",
       "      dtype=object)"
      ]
     },
     "execution_count": 209,
     "metadata": {},
     "output_type": "execute_result"
    }
   ],
   "source": [
    "data"
   ]
  },
  {
   "cell_type": "code",
   "execution_count": 210,
   "id": "fb77e458",
   "metadata": {},
   "outputs": [],
   "source": [
    "# or a different array for each field\n",
    "student_number, name, gender, DOB, City, mathematics, physics, chemistry = np.loadtxt('scores.csv', \n",
    "                                                                                      dtype = 'object', \n",
    "                                                                                      delimiter = ',', \n",
    "                                                                                      unpack = True)"
   ]
  },
  {
   "cell_type": "code",
   "execution_count": 211,
   "id": "f9e61b5d",
   "metadata": {},
   "outputs": [
    {
     "data": {
      "text/plain": [
       "(array(['student_number', '1', '2', '3', '4', '5', '6', '7', '8', '9',\n",
       "        '10', '11', '12', '13', '14', '15', '16', '17', '18', '19', '20',\n",
       "        '21', '22', '23', '24', '25', '26', '27', '28', '29', '30'],\n",
       "       dtype=object),\n",
       " array(['name', 'Bhuvanesh', 'Harish', 'Shashank', 'Rida', 'Ritika',\n",
       "        'Akshaya', 'Sameer', 'Aditya', 'Surya', 'Clarence', 'Kavya',\n",
       "        'Rahul', 'Srinidhi', 'Gopi', 'Sophia', 'Goutami', 'Tauseef',\n",
       "        'Arshad', 'Abirami', 'Vetrivel', 'Kalyan', 'Monika', 'Priya',\n",
       "        'Deepika', 'Siddharth', 'Geeta', 'JK', 'Jagan', 'Nisha', 'Naveen'],\n",
       "       dtype=object),\n",
       " array(['gender', 'M', 'M', 'M', 'F', 'F', 'F', 'M', 'M', 'M', 'M', 'F',\n",
       "        'M', 'F', 'M', 'F', 'F', 'M', 'M', 'F', 'M', 'M', 'F', 'F', 'F',\n",
       "        'M', 'F', 'M', 'M', 'F', 'M'], dtype=object),\n",
       " array(['DOB', '04-27', '05-06', '04-14', '06-21', '05-26', '07-17',\n",
       "        '05-21', '04-02', '01-12', '02-12', '06-26', '05-11', '01-11',\n",
       "        '02-04', '01-14', '02-02', '07-14', '04-15', '03-02', '03-15',\n",
       "        '05-21', '04-21', '04-20', '04-29', '01-21', '06-02', '07-19',\n",
       "        '06-10', '05-14', '03-06'], dtype=object),\n",
       " array(['City', 'Aurangabad', 'Nashik', 'Aurangabad', 'Bhubaneshwar',\n",
       "        'Nashik', 'Nashik', 'Nashik', 'Nashik', 'Manglore', 'Aurangabad',\n",
       "        'Manglore', 'Nashik', 'Patna', 'Nashik', 'Bhubaneshwar',\n",
       "        'Bhubaneshwar', 'Manglore', 'Nashik', 'Jabalpur', 'Bhubaneshwar',\n",
       "        'Bhubaneshwar', 'Patna', 'Aurangabad', 'Bhubaneshwar', 'Patna',\n",
       "        'Patna', 'Nashik', 'Bhubaneshwar', 'Nashik', 'Nashik'],\n",
       "       dtype=object),\n",
       " array(['mathematics', '42', '66', '55', '26', '33', '86', '20', '51',\n",
       "        '83', '4', '96', '56', '65', '87', '73', '8', '69', '72', '84',\n",
       "        '34', '60', '79', '16', '56', '54', '8', '76', '36', '46', '31'],\n",
       "       dtype=object),\n",
       " array(['physics', '4', '46', '16', '79', '3', '99', '11', '39', '74',\n",
       "        '40', '87', '53', '19', '47', '26', '64', '79', '89', '94', '47',\n",
       "        '97', '90', '19', '9', '1', '4', '19', '88', '47', '77'],\n",
       "       dtype=object),\n",
       " array(['chemistry', '94', '73', '11', '34', '47', '48', '6', '59', '66',\n",
       "        '11', '29', '39', '45', '46', '45', '38', '86', '83', '0', '2',\n",
       "        '24', '54', '88', '27', '57', '92', '76', '0', '3', '94'],\n",
       "       dtype=object))"
      ]
     },
     "execution_count": 211,
     "metadata": {},
     "output_type": "execute_result"
    }
   ],
   "source": [
    "student_number, name, gender, DOB, City, mathematics, physics, chemistry"
   ]
  },
  {
   "cell_type": "code",
   "execution_count": 212,
   "id": "2f3358af",
   "metadata": {},
   "outputs": [],
   "source": [
    "# if one does not want to show the field name\n",
    "student_number, name, gender, DOB, City, mathematics, physics, chemistry = np.loadtxt('scores.csv', \n",
    "                                                                                      dtype = 'object', \n",
    "                                                                                      delimiter = ',', \n",
    "                                                                                      unpack = True, skiprows=1)"
   ]
  },
  {
   "cell_type": "code",
   "execution_count": 213,
   "id": "18dc2999",
   "metadata": {},
   "outputs": [
    {
     "data": {
      "text/plain": [
       "(array(['1', '2', '3', '4', '5', '6', '7', '8', '9', '10', '11', '12',\n",
       "        '13', '14', '15', '16', '17', '18', '19', '20', '21', '22', '23',\n",
       "        '24', '25', '26', '27', '28', '29', '30'], dtype=object),\n",
       " array(['Bhuvanesh', 'Harish', 'Shashank', 'Rida', 'Ritika', 'Akshaya',\n",
       "        'Sameer', 'Aditya', 'Surya', 'Clarence', 'Kavya', 'Rahul',\n",
       "        'Srinidhi', 'Gopi', 'Sophia', 'Goutami', 'Tauseef', 'Arshad',\n",
       "        'Abirami', 'Vetrivel', 'Kalyan', 'Monika', 'Priya', 'Deepika',\n",
       "        'Siddharth', 'Geeta', 'JK', 'Jagan', 'Nisha', 'Naveen'],\n",
       "       dtype=object),\n",
       " array(['M', 'M', 'M', 'F', 'F', 'F', 'M', 'M', 'M', 'M', 'F', 'M', 'F',\n",
       "        'M', 'F', 'F', 'M', 'M', 'F', 'M', 'M', 'F', 'F', 'F', 'M', 'F',\n",
       "        'M', 'M', 'F', 'M'], dtype=object),\n",
       " array(['04-27', '05-06', '04-14', '06-21', '05-26', '07-17', '05-21',\n",
       "        '04-02', '01-12', '02-12', '06-26', '05-11', '01-11', '02-04',\n",
       "        '01-14', '02-02', '07-14', '04-15', '03-02', '03-15', '05-21',\n",
       "        '04-21', '04-20', '04-29', '01-21', '06-02', '07-19', '06-10',\n",
       "        '05-14', '03-06'], dtype=object),\n",
       " array(['Aurangabad', 'Nashik', 'Aurangabad', 'Bhubaneshwar', 'Nashik',\n",
       "        'Nashik', 'Nashik', 'Nashik', 'Manglore', 'Aurangabad', 'Manglore',\n",
       "        'Nashik', 'Patna', 'Nashik', 'Bhubaneshwar', 'Bhubaneshwar',\n",
       "        'Manglore', 'Nashik', 'Jabalpur', 'Bhubaneshwar', 'Bhubaneshwar',\n",
       "        'Patna', 'Aurangabad', 'Bhubaneshwar', 'Patna', 'Patna', 'Nashik',\n",
       "        'Bhubaneshwar', 'Nashik', 'Nashik'], dtype=object),\n",
       " array(['42', '66', '55', '26', '33', '86', '20', '51', '83', '4', '96',\n",
       "        '56', '65', '87', '73', '8', '69', '72', '84', '34', '60', '79',\n",
       "        '16', '56', '54', '8', '76', '36', '46', '31'], dtype=object),\n",
       " array(['4', '46', '16', '79', '3', '99', '11', '39', '74', '40', '87',\n",
       "        '53', '19', '47', '26', '64', '79', '89', '94', '47', '97', '90',\n",
       "        '19', '9', '1', '4', '19', '88', '47', '77'], dtype=object),\n",
       " array(['94', '73', '11', '34', '47', '48', '6', '59', '66', '11', '29',\n",
       "        '39', '45', '46', '45', '38', '86', '83', '0', '2', '24', '54',\n",
       "        '88', '27', '57', '92', '76', '0', '3', '94'], dtype=object))"
      ]
     },
     "execution_count": 213,
     "metadata": {},
     "output_type": "execute_result"
    }
   ],
   "source": [
    "student_number, name, gender, DOB, City, mathematics, physics, chemistry"
   ]
  }
 ],
 "metadata": {
  "kernelspec": {
   "display_name": "Python 3 (ipykernel)",
   "language": "python",
   "name": "python3"
  },
  "language_info": {
   "codemirror_mode": {
    "name": "ipython",
    "version": 3
   },
   "file_extension": ".py",
   "mimetype": "text/x-python",
   "name": "python",
   "nbconvert_exporter": "python",
   "pygments_lexer": "ipython3",
   "version": "3.10.0"
  }
 },
 "nbformat": 4,
 "nbformat_minor": 5
}
